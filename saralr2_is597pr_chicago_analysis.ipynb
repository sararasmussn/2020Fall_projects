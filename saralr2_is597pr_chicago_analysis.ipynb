{
 "cells": [
  {
   "cell_type": "markdown",
   "metadata": {},
   "source": [
    "## Chicago Public Library: Supplementary Analysis\n",
    "\n",
    "Sara Rasmussen (saralr2)  \n",
    "\n",
    "To inform the model in my final project, I consulted the City of Chicago's Open Data Portal. \n",
    "The city provides the number of computer sessions per month, per library location, from the last four years. This information provides a general overview of trends in computer usage by month, year over year, as well as a sense of the volume of usage relative to the number of computers available. \n",
    "\n",
    "To focus my study, I looked at the Harold Washington Library Center (HWLC), the central library within the Chicago Public Library system, located in downtown Chicago.\n",
    "\n",
    "Questions to answer:\n",
    "- How many computers are available for public use at the HWLC? \n",
    "- How many computer sessions are there by month, and possibly by day, on average at HWLC? \n",
    "\n",
    "**Bibliography:**\n",
    "- Chicago Data Portal. \"Connect Chicago Locations - Historical.\" October 27, 2020. https://data.cityofchicago.org/Education/Connect-Chicago-Locations-Historical/bmus-hp7e. \n",
    "- Chicago Data Portal. \"Libraries - 2016 Computer Sessions by Location.\" January 13, 2017. https://data.cityofchicago.org/dataset/Libraries-2016-Computer-Sessions-by-Location/w7uw-j3pp.\n",
    "- Chicago Data Portal. \"Libraries - 2017 Computer Sessions by Location.\" January 29, 2018. https://data.cityofchicago.org/dataset/Libraries-2017-Computer-Sessions-by-Location/8xex-yi9w. \n",
    "- Chicago Data Portal. \"Libraries - 2018 Computer Sessions by Location.\" February 28, 2019. https://data.cityofchicago.org/dataset/Libraries-2018-Computer-Sessions-by-Location/jf4r-ngpg. \n",
    "- Chicago Data Portal. \"Libraries - 2019 Computer Sessions by Location.\" March 3, 2020. https://data.cityofchicago.org/dataset/Libraries-2019-Computer-Sessions-by-Location/fhfm-vdz3. "
   ]
  },
  {
   "cell_type": "markdown",
   "metadata": {},
   "source": [
    "## Devices available at Harold Washington Library Center\n",
    "\n",
    "The City of Chicago provides a second open dataset, Connect Chicago, which provides an overview of digital inclusion services available across the city. This includes computers and hotspots available for public use, wifi access, open hours etc. Filtering by organization type can yield all libraries, or by organization name to return specific results. "
   ]
  },
  {
   "cell_type": "code",
   "execution_count": 18,
   "metadata": {
    "scrolled": true
   },
   "outputs": [
    {
     "data": {
      "text/html": [
       "<div>\n",
       "<style scoped>\n",
       "    .dataframe tbody tr th:only-of-type {\n",
       "        vertical-align: middle;\n",
       "    }\n",
       "\n",
       "    .dataframe tbody tr th {\n",
       "        vertical-align: top;\n",
       "    }\n",
       "\n",
       "    .dataframe thead th {\n",
       "        text-align: right;\n",
       "    }\n",
       "</style>\n",
       "<table border=\"1\" class=\"dataframe\">\n",
       "  <thead>\n",
       "    <tr style=\"text-align: right;\">\n",
       "      <th></th>\n",
       "      <th>id</th>\n",
       "      <th>organization_name</th>\n",
       "      <th>hardware_public</th>\n",
       "      <th>hours</th>\n",
       "    </tr>\n",
       "  </thead>\n",
       "  <tbody>\n",
       "    <tr>\n",
       "      <th>0</th>\n",
       "      <td>101</td>\n",
       "      <td>Harold Washington Library Center</td>\n",
       "      <td>153</td>\n",
       "      <td>M-TH: 9AM-9PM; F, SA: 9AM-5PM; SU: 1PM-5PM</td>\n",
       "    </tr>\n",
       "  </tbody>\n",
       "</table>\n",
       "</div>"
      ],
      "text/plain": [
       "    id                 organization_name  hardware_public  \\\n",
       "0  101  Harold Washington Library Center              153   \n",
       "\n",
       "                                        hours  \n",
       "0  M-TH: 9AM-9PM; F, SA: 9AM-5PM; SU: 1PM-5PM  "
      ]
     },
     "execution_count": 18,
     "metadata": {},
     "output_type": "execute_result"
    }
   ],
   "source": [
    "# Read in the number of computers available by location\n",
    "connect_chi = pd.read_json(\"https://data.cityofchicago.org/resource/bmus-hp7e.json?organization_type=Chicago%20Public%20Library&organization_name=Harold%20Washington%20Library-HWLC\")\n",
    "c_counts = connect_chi[['id','organization_name','hardware_public','hours']][connect_chi['hardware_public'].isnull() == False]\n",
    "# Line up organization names, correct dtypes\n",
    "# c_counts = c_counts.replace(to_replace=\" Library\",value=\"\",regex=True)\n",
    "c_counts['organization_name'] =  \"Harold Washington Library Center\"\n",
    "c_counts"
   ]
  },
  {
   "cell_type": "code",
   "execution_count": 65,
   "metadata": {},
   "outputs": [],
   "source": [
    "import requests\n",
    "import pandas as pd"
   ]
  },
  {
   "cell_type": "code",
   "execution_count": 57,
   "metadata": {},
   "outputs": [
    {
     "name": "stdout",
     "output_type": "stream",
     "text": [
      "{'location': 'Harold Washington Library Center', 'january': '25824', 'february': '24903', 'march': '27381', 'april': '27870', 'may': '25735', 'june': '27354', 'july': '25761', 'august': '29447', 'september': '26007', 'october': '27915', 'november': '25038', 'december': '23336', 'ytd': '316571', 'year': 2016}\n",
      "{'location': 'Harold Washington Library Center', 'january': '24526', 'february': '22334', 'march': '25605', 'april': '24119', 'may': '24112', 'june': '24213', 'july': '24737', 'august': '26132', 'september': '22665', 'october': '24591', 'november': '23249', 'december': '20846', 'ytd': '287129', 'year': 2017}\n",
      "{'location': 'Harold Washington Library Center', 'january': '22341', 'february': '18832', 'march': '22371', 'april': '21540', 'may': '20215', 'june': '20442', 'july': '21005', 'august': '20991', 'september': '19443', 'october': '20907', 'november': '17656', 'december': '17196', 'ytd': '242939', 'year': 2018}\n",
      "{'location': 'HAROLD WASHINGTON LIBRARY CENTER', 'address': '400 S. State Street', 'city': 'CHICAGO', 'zip': '60605', 'january': '17443', 'february': '16750', 'march': '18584', 'april': '18672', 'may': '17235', 'june': '17547', 'july': '18277', 'august': '17353', 'september': '16426', 'october': '19176', 'november': '16180', 'december': '15940', 'ytd': '209583', 'year': 2019}\n"
     ]
    }
   ],
   "source": [
    "# Each year is held in a separate data file\n",
    "# Read in and merge Chicago Public Libraries computer sessions by year\n",
    "root = \"https://data.cityofchicago.org/resource/\"\n",
    "branch = \"location=Harold%20Washington%20Library%20Center\"\n",
    "c_16 = requests.get(root + \"w7uw-j3pp.json?\" + branch)\n",
    "c_17 = requests.get(root + \"8xex-yi9w.json?\" + branch)\n",
    "c_18 = requests.get(root + \"jf4r-ngpg.json?\" + branch)\n",
    "c_19 = requests.get(root + \"fhfm-vdz3.json?\" + branch.upper())\n",
    "sessions = c_16.json() + c_17.json() + c_18.json() + c_19.json()\n",
    "for n in range(4):\n",
    "    sessions[n]['year'] = 2016 + n\n",
    "    print(sessions[n])"
   ]
  },
  {
   "cell_type": "markdown",
   "metadata": {},
   "source": [
    "## Computer use has decreased year over year\n",
    "\n",
    "This supports the argument that libraries no longer need to offer computers for public use, because \"everyone has a computer in their pocket.\" \n",
    "\n",
    "However, even in the slowest year, at a busy library like HWLC, you're still seeing more than 16,000 unique computer sessions per month. (Note: Sessions != users. CPL may have the numbers on unique users, but in the interest of patron privacy, does not share it. What percentage of the card-holding population, or the population of Chicago's downtown, does this represent? Questiosn for another time.) "
   ]
  },
  {
   "cell_type": "code",
   "execution_count": 58,
   "metadata": {
    "scrolled": true
   },
   "outputs": [
    {
     "data": {
      "text/html": [
       "<div>\n",
       "<style scoped>\n",
       "    .dataframe tbody tr th:only-of-type {\n",
       "        vertical-align: middle;\n",
       "    }\n",
       "\n",
       "    .dataframe tbody tr th {\n",
       "        vertical-align: top;\n",
       "    }\n",
       "\n",
       "    .dataframe thead th {\n",
       "        text-align: right;\n",
       "    }\n",
       "</style>\n",
       "<table border=\"1\" class=\"dataframe\">\n",
       "  <thead>\n",
       "    <tr style=\"text-align: right;\">\n",
       "      <th></th>\n",
       "      <th>january</th>\n",
       "      <th>february</th>\n",
       "      <th>march</th>\n",
       "      <th>april</th>\n",
       "      <th>may</th>\n",
       "      <th>june</th>\n",
       "      <th>july</th>\n",
       "      <th>august</th>\n",
       "      <th>september</th>\n",
       "      <th>october</th>\n",
       "      <th>november</th>\n",
       "      <th>december</th>\n",
       "    </tr>\n",
       "    <tr>\n",
       "      <th>year</th>\n",
       "      <th></th>\n",
       "      <th></th>\n",
       "      <th></th>\n",
       "      <th></th>\n",
       "      <th></th>\n",
       "      <th></th>\n",
       "      <th></th>\n",
       "      <th></th>\n",
       "      <th></th>\n",
       "      <th></th>\n",
       "      <th></th>\n",
       "      <th></th>\n",
       "    </tr>\n",
       "  </thead>\n",
       "  <tbody>\n",
       "    <tr>\n",
       "      <th>2016</th>\n",
       "      <td>25824</td>\n",
       "      <td>24903</td>\n",
       "      <td>27381</td>\n",
       "      <td>27870</td>\n",
       "      <td>25735</td>\n",
       "      <td>27354</td>\n",
       "      <td>25761</td>\n",
       "      <td>29447</td>\n",
       "      <td>26007</td>\n",
       "      <td>27915</td>\n",
       "      <td>25038</td>\n",
       "      <td>23336</td>\n",
       "    </tr>\n",
       "    <tr>\n",
       "      <th>2017</th>\n",
       "      <td>24526</td>\n",
       "      <td>22334</td>\n",
       "      <td>25605</td>\n",
       "      <td>24119</td>\n",
       "      <td>24112</td>\n",
       "      <td>24213</td>\n",
       "      <td>24737</td>\n",
       "      <td>26132</td>\n",
       "      <td>22665</td>\n",
       "      <td>24591</td>\n",
       "      <td>23249</td>\n",
       "      <td>20846</td>\n",
       "    </tr>\n",
       "    <tr>\n",
       "      <th>2018</th>\n",
       "      <td>22341</td>\n",
       "      <td>18832</td>\n",
       "      <td>22371</td>\n",
       "      <td>21540</td>\n",
       "      <td>20215</td>\n",
       "      <td>20442</td>\n",
       "      <td>21005</td>\n",
       "      <td>20991</td>\n",
       "      <td>19443</td>\n",
       "      <td>20907</td>\n",
       "      <td>17656</td>\n",
       "      <td>17196</td>\n",
       "    </tr>\n",
       "    <tr>\n",
       "      <th>2019</th>\n",
       "      <td>17443</td>\n",
       "      <td>16750</td>\n",
       "      <td>18584</td>\n",
       "      <td>18672</td>\n",
       "      <td>17235</td>\n",
       "      <td>17547</td>\n",
       "      <td>18277</td>\n",
       "      <td>17353</td>\n",
       "      <td>16426</td>\n",
       "      <td>19176</td>\n",
       "      <td>16180</td>\n",
       "      <td>15940</td>\n",
       "    </tr>\n",
       "  </tbody>\n",
       "</table>\n",
       "</div>"
      ],
      "text/plain": [
       "      january  february  march  april    may   june   july  august  september  \\\n",
       "year                                                                            \n",
       "2016    25824     24903  27381  27870  25735  27354  25761   29447      26007   \n",
       "2017    24526     22334  25605  24119  24112  24213  24737   26132      22665   \n",
       "2018    22341     18832  22371  21540  20215  20442  21005   20991      19443   \n",
       "2019    17443     16750  18584  18672  17235  17547  18277   17353      16426   \n",
       "\n",
       "      october  november  december  \n",
       "year                               \n",
       "2016    27915     25038     23336  \n",
       "2017    24591     23249     20846  \n",
       "2018    20907     17656     17196  \n",
       "2019    19176     16180     15940  "
      ]
     },
     "execution_count": 58,
     "metadata": {},
     "output_type": "execute_result"
    }
   ],
   "source": [
    "cs = pd.DataFrame(sessions)\n",
    "cs_by_year = cs.drop(labels=[\"location\",\"ytd\",\"address\",\"city\",\"zip\"],axis=\"columns\")\n",
    "cs_by_year = cs_by_year.set_index('year').astype('int64')\n",
    "cs_by_year"
   ]
  },
  {
   "cell_type": "code",
   "execution_count": 63,
   "metadata": {},
   "outputs": [
    {
     "data": {
      "text/plain": [
       "<matplotlib.axes._subplots.AxesSubplot at 0x19ea94879b0>"
      ]
     },
     "execution_count": 63,
     "metadata": {},
     "output_type": "execute_result"
    },
    {
     "data": {
      "image/png": "[encoded data removed]",
      "text/plain": [
       "<Figure size 1008x720 with 1 Axes>"
      ]
     },
     "metadata": {
      "needs_background": "light"
     },
     "output_type": "display_data"
    }
   ],
   "source": [
    "# Rotate the table for visualizing\n",
    "# Source: https://stackoverflow.com/questions/21473570/how-to-plot-columns-on-x-axis-and-use-index-as-y-axis-using-pandas\n",
    "cs_by_year.T.plot(figsize=(14,10))"
   ]
  },
  {
   "cell_type": "markdown",
   "metadata": {},
   "source": [
    "## Roughly estimating sessions per day\n",
    "\n",
    "From the SPL analysis, I know that the volume of sessions per day varies by day of week, week of month, and as we can see above, it also varies by month of year. This is further complicated by the reality that HWLC is open more hours on Mondays-Thursdays than on Fridays and Saturdays, with only a few open hours on Sundays. However, I need a quick approximation to inform the maximum end of my probability distribution of patron sessions per day. So here goes: "
   ]
  },
  {
   "cell_type": "code",
   "execution_count": 55,
   "metadata": {},
   "outputs": [
    {
     "data": {
      "text/html": [
       "<div>\n",
       "<style scoped>\n",
       "    .dataframe tbody tr th:only-of-type {\n",
       "        vertical-align: middle;\n",
       "    }\n",
       "\n",
       "    .dataframe tbody tr th {\n",
       "        vertical-align: top;\n",
       "    }\n",
       "\n",
       "    .dataframe thead th {\n",
       "        text-align: right;\n",
       "    }\n",
       "</style>\n",
       "<table border=\"1\" class=\"dataframe\">\n",
       "  <thead>\n",
       "    <tr style=\"text-align: right;\">\n",
       "      <th></th>\n",
       "      <th>january</th>\n",
       "      <th>february</th>\n",
       "      <th>march</th>\n",
       "      <th>april</th>\n",
       "      <th>may</th>\n",
       "      <th>june</th>\n",
       "      <th>july</th>\n",
       "      <th>august</th>\n",
       "      <th>september</th>\n",
       "      <th>october</th>\n",
       "      <th>november</th>\n",
       "      <th>december</th>\n",
       "    </tr>\n",
       "    <tr>\n",
       "      <th>year</th>\n",
       "      <th></th>\n",
       "      <th></th>\n",
       "      <th></th>\n",
       "      <th></th>\n",
       "      <th></th>\n",
       "      <th></th>\n",
       "      <th></th>\n",
       "      <th></th>\n",
       "      <th></th>\n",
       "      <th></th>\n",
       "      <th></th>\n",
       "      <th></th>\n",
       "    </tr>\n",
       "  </thead>\n",
       "  <tbody>\n",
       "    <tr>\n",
       "      <th>2016</th>\n",
       "      <td>833</td>\n",
       "      <td>889</td>\n",
       "      <td>883</td>\n",
       "      <td>929</td>\n",
       "      <td>830</td>\n",
       "      <td>911</td>\n",
       "      <td>831</td>\n",
       "      <td>949</td>\n",
       "      <td>866</td>\n",
       "      <td>900</td>\n",
       "      <td>834</td>\n",
       "      <td>752</td>\n",
       "    </tr>\n",
       "    <tr>\n",
       "      <th>2017</th>\n",
       "      <td>791</td>\n",
       "      <td>797</td>\n",
       "      <td>825</td>\n",
       "      <td>803</td>\n",
       "      <td>777</td>\n",
       "      <td>807</td>\n",
       "      <td>797</td>\n",
       "      <td>842</td>\n",
       "      <td>755</td>\n",
       "      <td>793</td>\n",
       "      <td>774</td>\n",
       "      <td>672</td>\n",
       "    </tr>\n",
       "    <tr>\n",
       "      <th>2018</th>\n",
       "      <td>720</td>\n",
       "      <td>672</td>\n",
       "      <td>721</td>\n",
       "      <td>718</td>\n",
       "      <td>652</td>\n",
       "      <td>681</td>\n",
       "      <td>677</td>\n",
       "      <td>677</td>\n",
       "      <td>648</td>\n",
       "      <td>674</td>\n",
       "      <td>588</td>\n",
       "      <td>554</td>\n",
       "    </tr>\n",
       "    <tr>\n",
       "      <th>2019</th>\n",
       "      <td>562</td>\n",
       "      <td>598</td>\n",
       "      <td>599</td>\n",
       "      <td>622</td>\n",
       "      <td>555</td>\n",
       "      <td>584</td>\n",
       "      <td>589</td>\n",
       "      <td>559</td>\n",
       "      <td>547</td>\n",
       "      <td>618</td>\n",
       "      <td>539</td>\n",
       "      <td>514</td>\n",
       "    </tr>\n",
       "  </tbody>\n",
       "</table>\n",
       "</div>"
      ],
      "text/plain": [
       "      january  february  march  april  may  june  july  august  september  \\\n",
       "year                                                                        \n",
       "2016      833       889    883    929  830   911   831     949        866   \n",
       "2017      791       797    825    803  777   807   797     842        755   \n",
       "2018      720       672    721    718  652   681   677     677        648   \n",
       "2019      562       598    599    622  555   584   589     559        547   \n",
       "\n",
       "      october  november  december  \n",
       "year                               \n",
       "2016      900       834       752  \n",
       "2017      793       774       672  \n",
       "2018      674       588       554  \n",
       "2019      618       539       514  "
      ]
     },
     "execution_count": 55,
     "metadata": {},
     "output_type": "execute_result"
    }
   ],
   "source": [
    "days_in_month = {\"january\": 31,\"february\": 28,\"march\": 31,\"april\": 30,\"may\": 31,\"june\": 30,\"july\": 31,\"august\": 31,\"september\": 30,\"october\": 31,\"november\": 30, \"december\": 31}\n",
    "spd = pd.DataFrame()\n",
    "for month, num in days_in_month.items():\n",
    "    #cs_by_year[\"avg sessions/ day: \" + month] = cs_by_year[month] / num\n",
    "    spd[month] = cs_by_year[month] / num\n",
    "    \n",
    "spd.astype('int64')  # Avg sessions per day (total sessions per month / number of days in month)"
   ]
  }
 ],
 "metadata": {
  "kernelspec": {
   "display_name": "Python 3",
   "language": "python",
   "name": "python3"
  },
  "language_info": {
   "codemirror_mode": {
    "name": "ipython",
    "version": 3
   },
   "file_extension": ".py",
   "mimetype": "text/x-python",
   "name": "python",
   "nbconvert_exporter": "python",
   "pygments_lexer": "ipython3",
   "version": "3.7.3"
  }
 },
 "nbformat": 4,
 "nbformat_minor": 4
}
